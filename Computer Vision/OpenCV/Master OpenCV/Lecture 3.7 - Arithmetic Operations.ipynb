{
 "cells": [
  {
   "cell_type": "markdown",
   "metadata": {},
   "source": [
    "## Arithmetic Operations\n",
    "\n",
    "These are simple operations that allow us to directly add or subract to the color intensity.\n",
    "\n",
    "Calculates the per-element operation of two arrays. The overall effect is increasing or decreasing brightness."
   ]
  },
  {
   "cell_type": "code",
   "execution_count": 6,
   "metadata": {
    "collapsed": false
   },
   "outputs": [],
   "source": [
    "import cv2\n",
    "import numpy as np\n",
    "\n",
    "image = cv2.imread('images/input.jpg')\n",
    "\n",
    "# Create a matrix of ones, then multiply it by a scaler of 100 \n",
    "# This gives a matrix with same dimesions of our image with all values being 100\n",
    "M = np.ones(image.shape, dtype = \"uint8\") * 175 \n",
    "\n",
    "# We use this to add this matrix M, to our image\n",
    "# Notice the increase in brightness\n",
    "added = cv2.add(image, M)\n",
    "cv2.imshow(\"Added\", added)\n",
    "\n",
    "# Likewise we can also subtract\n",
    "# Notice the decrease in brightness\n",
    "subtracted = cv2.subtract(image, M)\n",
    "cv2.imshow(\"Subtracted\", subtracted)\n",
    "\n",
    "cv2.waitKey(0)\n",
    "cv2.destroyAllWindows()"
   ]
  },
  {
   "cell_type": "code",
   "execution_count": 4,
   "metadata": {
    "collapsed": false
   },
   "outputs": [
    {
     "name": "stdout",
     "output_type": "stream",
     "text": [
      "[[[75 75 75]\n",
      "  [75 75 75]\n",
      "  [75 75 75]\n",
      "  ...\n",
      "  [75 75 75]\n",
      "  [75 75 75]\n",
      "  [75 75 75]]\n",
      "\n",
      " [[75 75 75]\n",
      "  [75 75 75]\n",
      "  [75 75 75]\n",
      "  ...\n",
      "  [75 75 75]\n",
      "  [75 75 75]\n",
      "  [75 75 75]]\n",
      "\n",
      " [[75 75 75]\n",
      "  [75 75 75]\n",
      "  [75 75 75]\n",
      "  ...\n",
      "  [75 75 75]\n",
      "  [75 75 75]\n",
      "  [75 75 75]]\n",
      "\n",
      " ...\n",
      "\n",
      " [[75 75 75]\n",
      "  [75 75 75]\n",
      "  [75 75 75]\n",
      "  ...\n",
      "  [75 75 75]\n",
      "  [75 75 75]\n",
      "  [75 75 75]]\n",
      "\n",
      " [[75 75 75]\n",
      "  [75 75 75]\n",
      "  [75 75 75]\n",
      "  ...\n",
      "  [75 75 75]\n",
      "  [75 75 75]\n",
      "  [75 75 75]]\n",
      "\n",
      " [[75 75 75]\n",
      "  [75 75 75]\n",
      "  [75 75 75]\n",
      "  ...\n",
      "  [75 75 75]\n",
      "  [75 75 75]\n",
      "  [75 75 75]]]\n"
     ]
    }
   ],
   "source": [
    "M = np.ones(image.shape, dtype = \"uint8\") * 75 \n",
    "print(M)"
   ]
  },
  {
   "cell_type": "code",
   "execution_count": null,
   "metadata": {
    "collapsed": true
   },
   "outputs": [],
   "source": []
  }
 ],
 "metadata": {
  "interpreter": {
   "hash": "0e741fcc44797d3359be86eb5eebc415bbecb1a1d1f811255eb74c1dea2bec2c"
  },
  "kernelspec": {
   "display_name": "Python 2",
   "language": "python",
   "name": "python3"
  },
  "language_info": {
   "codemirror_mode": {
    "name": "ipython",
    "version": 3
   },
   "file_extension": ".py",
   "mimetype": "text/x-python",
   "name": "python",
   "nbconvert_exporter": "python",
   "pygments_lexer": "ipython3",
   "version": "3.8.8"
  }
 },
 "nbformat": 4,
 "nbformat_minor": 0
}
